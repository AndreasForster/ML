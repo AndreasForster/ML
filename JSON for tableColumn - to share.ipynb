{
 "cells": [
  {
   "cell_type": "markdown",
   "metadata": {},
   "source": [
    "# Produce the JSON syntax to specify the table columns in a SAP HANA Client in SAP Data Hub"
   ]
  },
  {
   "cell_type": "markdown",
   "metadata": {},
   "source": [
    "Conventional connection to SAP HANA (outside SAP Data Hub)\n",
    "https://blogs.sap.com/2017/07/26/sap-hana-2.0-sps02-new-feature-updated-python-driver/ \n"
   ]
  },
  {
   "cell_type": "code",
   "execution_count": 1,
   "metadata": {
    "collapsed": true
   },
   "outputs": [],
   "source": [
    "# !pip install \"C:\\Program Files\\SAP\\hdbclient\\hdbcli-2.3.119.zip\""
   ]
  },
  {
   "cell_type": "code",
   "execution_count": 2,
   "metadata": {},
   "outputs": [
    {
     "data": {
      "text/plain": [
       "'hdbcli.dbapi'"
      ]
     },
     "execution_count": 2,
     "metadata": {},
     "output_type": "execute_result"
    }
   ],
   "source": [
    "from hdbcli import dbapi\n",
    "dbapi.__name__"
   ]
  },
  {
   "cell_type": "code",
   "execution_count": 3,
   "metadata": {
    "collapsed": true
   },
   "outputs": [],
   "source": [
    "# quick and dirty, should use hdbuserstore\n",
    "conn = dbapi.connect(\n",
    "    address=\"yourserver\", \n",
    "    port=30015, \n",
    "    user=\"SYSTEM\", \n",
    "    password=\"Welcome01\"\n",
    ")\n",
    "# print(conn)"
   ]
  },
  {
   "cell_type": "markdown",
   "metadata": {},
   "source": [
    "Specify the target table and retrieve its specifications"
   ]
  },
  {
   "cell_type": "code",
   "execution_count": 4,
   "metadata": {
    "collapsed": true
   },
   "outputs": [],
   "source": [
    "schemaName = \"SYSTEM\"\n",
    "tableName = \"VEHICLEREGISTRATIONS_FORECAST\"\n",
    "cursor = conn.cursor()\n",
    "cursor.execute(\"SELECT COLUMN_NAME, DATA_TYPE_NAME, LENGTH FROM SYS.COLUMNS WHERE SCHEMA_NAME = '\" + schemaName + \"' AND TABLE_NAME = '\" + tableName + \"' ORDER BY POSITION;\")\n",
    "result_set = cursor.fetchall()"
   ]
  },
  {
   "cell_type": "code",
   "execution_count": 5,
   "metadata": {},
   "outputs": [
    {
     "name": "stdout",
     "output_type": "stream",
     "text": [
      "[('SEGMENT', 'NVARCHAR', 14), ('MONTH', 'DATE', 10), ('MEASURETYPE', 'NVARCHAR', 20), ('MEASURE', 'DOUBLE', 15), ('MEASURELOWER', 'DOUBLE', 15), ('MEASUREUPPER', 'DOUBLE', 15), ('MODEL', 'NVARCHAR', 100)]\n"
     ]
    }
   ],
   "source": [
    "print(result_set)"
   ]
  },
  {
   "cell_type": "markdown",
   "metadata": {},
   "source": [
    "Turn the metadata into the appropriate JSON syntax"
   ]
  },
  {
   "cell_type": "code",
   "execution_count": 6,
   "metadata": {},
   "outputs": [
    {
     "data": {
      "text/plain": [
       "[{'name': 'SEGMENT', 'size': 14, 'type': 'NVARCHAR'},\n",
       " {'name': 'MONTH', 'type': 'DATE'},\n",
       " {'name': 'MEASURETYPE', 'size': 20, 'type': 'NVARCHAR'},\n",
       " {'name': 'MEASURE', 'type': 'DOUBLE'},\n",
       " {'name': 'MEASURELOWER', 'type': 'DOUBLE'},\n",
       " {'name': 'MEASUREUPPER', 'type': 'DOUBLE'},\n",
       " {'name': 'MODEL', 'size': 100, 'type': 'NVARCHAR'}]"
      ]
     },
     "execution_count": 6,
     "metadata": {},
     "output_type": "execute_result"
    }
   ],
   "source": [
    "tableColumn = []\n",
    "for row in result_set:\n",
    "    if row[1] in [\"VARCHAR\", \"NVARCHAR\", \"FLOAT\"]:\n",
    "        tableColumn.append({'name': row[0], 'type': row[1], 'size': row[2]})\n",
    "    else:\n",
    "        tableColumn.append({'name': row[0], 'type': row[1]})\n",
    "cursor.close()\n",
    "tableColumn"
   ]
  },
  {
   "cell_type": "markdown",
   "metadata": {},
   "source": [
    "Do not use the surrounding single '"
   ]
  },
  {
   "cell_type": "code",
   "execution_count": 7,
   "metadata": {},
   "outputs": [
    {
     "data": {
      "text/plain": [
       "'[{\"name\": \"SEGMENT\", \"type\": \"NVARCHAR\", \"size\": 14}, {\"name\": \"MONTH\", \"type\": \"DATE\"}, {\"name\": \"MEASURETYPE\", \"type\": \"NVARCHAR\", \"size\": 20}, {\"name\": \"MEASURE\", \"type\": \"DOUBLE\"}, {\"name\": \"MEASURELOWER\", \"type\": \"DOUBLE\"}, {\"name\": \"MEASUREUPPER\", \"type\": \"DOUBLE\"}, {\"name\": \"MODEL\", \"type\": \"NVARCHAR\", \"size\": 100}]'"
      ]
     },
     "execution_count": 7,
     "metadata": {},
     "output_type": "execute_result"
    }
   ],
   "source": [
    "import json\n",
    "json_string = json.dumps(tableColumn)\n",
    "json_string"
   ]
  }
 ],
 "metadata": {
  "kernelspec": {
   "display_name": "Python 3",
   "language": "python",
   "name": "python3"
  },
  "language_info": {
   "codemirror_mode": {
    "name": "ipython",
    "version": 3
   },
   "file_extension": ".py",
   "mimetype": "text/x-python",
   "name": "python",
   "nbconvert_exporter": "python",
   "pygments_lexer": "ipython3",
   "version": "3.6.3"
  }
 },
 "nbformat": 4,
 "nbformat_minor": 2
}
